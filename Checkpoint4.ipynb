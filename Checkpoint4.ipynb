{
 "cells": [
  {
   "cell_type": "markdown",
   "id": "e547c18e",
   "metadata": {},
   "source": [
    "# Question 1"
   ]
  },
  {
   "cell_type": "code",
   "execution_count": 6,
   "id": "dc81d82c",
   "metadata": {},
   "outputs": [
    {
     "name": "stdout",
     "output_type": "stream",
     "text": [
      "Saisir les valeurs que vous voulez 15,13,14\n",
      "['15', '13', '14']\n"
     ]
    },
    {
     "data": {
      "text/plain": [
       "15"
      ]
     },
     "execution_count": 6,
     "metadata": {},
     "output_type": "execute_result"
    }
   ],
   "source": [
    "def max_number():\n",
    "    d = input(\"Saisir les valeurs que vous voulez \")\n",
    "    d = d.split(',')\n",
    "    print(d)\n",
    "    for i in d:\n",
    "        i = int(i)\n",
    "        maximum = int(max(d))\n",
    "    return maximum\n",
    "max_number()"
   ]
  },
  {
   "cell_type": "markdown",
   "id": "26e56e7e",
   "metadata": {},
   "source": [
    "# Question 2"
   ]
  },
  {
   "cell_type": "code",
   "execution_count": 33,
   "id": "3865aba0",
   "metadata": {},
   "outputs": [
    {
     "name": "stdout",
     "output_type": "stream",
     "text": [
      "Saisir les valeurs que vous voulez 40,10\n",
      "[40, 10]\n"
     ]
    },
    {
     "data": {
      "text/plain": [
       "(50, 30)"
      ]
     },
     "execution_count": 33,
     "metadata": {},
     "output_type": "execute_result"
    }
   ],
   "source": [
    "Liste = input(\"Saisir les valeurs que vous voulez \")\n",
    "Liste = Liste.split(',')\n",
    "\n",
    "def calculates(a):\n",
    "    s = 0\n",
    "    diff = 0\n",
    "    for i in range(2):\n",
    "        a[i] = int(a[i])\n",
    "    print(a)\n",
    "    s += a[0] + a[1]\n",
    "    diff +=  a[0] - a[1]   \n",
    "    return s,diff\n",
    "calculates(Liste)    "
   ]
  },
  {
   "cell_type": "code",
   "execution_count": 39,
   "id": "a8611f85",
   "metadata": {},
   "outputs": [
    {
     "data": {
      "text/plain": [
       "(50, 30)"
      ]
     },
     "execution_count": 39,
     "metadata": {},
     "output_type": "execute_result"
    }
   ],
   "source": [
    "def calculates_1(x,t):\n",
    "    s = x + t\n",
    "    diff = x - t\n",
    "    return s,diff\n",
    "calculates_1(40,10)"
   ]
  },
  {
   "cell_type": "markdown",
   "id": "dbab5d91",
   "metadata": {},
   "source": [
    "# Question 3"
   ]
  },
  {
   "cell_type": "code",
   "execution_count": 88,
   "id": "04aebae6",
   "metadata": {},
   "outputs": [
    {
     "name": "stdout",
     "output_type": "stream",
     "text": [
      "130\n",
      "61236000\n",
      "[14, 18, 45]\n",
      "[15, 20, 18]\n",
      "[77, 5400]\n"
     ]
    }
   ],
   "source": [
    "Liste = [14,15,18,20,45,18]\n",
    "def sum_number(d):\n",
    "    somme = 0\n",
    "    for i in d:\n",
    "        i = int(i)\n",
    "        somme+=i\n",
    "    return somme\n",
    "print(sum_number(Liste))\n",
    "def multiplie_number(l):\n",
    "    multiplication = 1\n",
    "    for i in l:\n",
    "        i = int(i)\n",
    "        multiplication*=i\n",
    "    return multiplication\n",
    "print(multiplie_number(Liste))\n",
    "def sum_multiplie_number(d):\n",
    "    liste_pair=[]\n",
    "    liste_impair=[]\n",
    "    liste_final=[]\n",
    "    for i in range(len(d)):\n",
    "        if((i%2)==0):\n",
    "            liste_pair.append(d[i])\n",
    "        else :\n",
    "            liste_impair.append(d[i])\n",
    "    liste_final.append(sum_number(liste_pair))\n",
    "    liste_final.append(multiplie_number(liste_impair))\n",
    "    print(liste_pair)\n",
    "    print(liste_impair)\n",
    "    return liste_final\n",
    "print(sum_multiplie_number(Liste))"
   ]
  },
  {
   "cell_type": "markdown",
   "id": "643fc3f8",
   "metadata": {},
   "source": [
    "# Question 4"
   ]
  },
  {
   "cell_type": "code",
   "execution_count": 57,
   "id": "a16140c1",
   "metadata": {},
   "outputs": [
    {
     "name": "stdout",
     "output_type": "stream",
     "text": [
      "Saisir votre chaine de caracteres green-red-yellow-black-white\n"
     ]
    },
    {
     "data": {
      "text/plain": [
       "'black-green-red-white-yellow'"
      ]
     },
     "execution_count": 57,
     "metadata": {},
     "output_type": "execute_result"
    }
   ],
   "source": [
    "def sort_Chaine():\n",
    "    string = input(\"Saisir votre chaine de caracteres \")\n",
    "    d = string.split('-')\n",
    "    d.sort() \n",
    "    x ='-'.join(d)\n",
    "    return x\n",
    "sort_Chaine()"
   ]
  },
  {
   "cell_type": "markdown",
   "id": "31895214",
   "metadata": {},
   "source": [
    "# Question 5"
   ]
  },
  {
   "cell_type": "code",
   "execution_count": 11,
   "id": "6c19b699",
   "metadata": {},
   "outputs": [
    {
     "name": "stdout",
     "output_type": "stream",
     "text": [
      "Saisir les valeurs que va prendre D : 140,180,200,190,300\n",
      "['140', '180', '200', '190', '300']\n"
     ]
    },
    {
     "data": {
      "text/plain": [
       "[22, 24, 26, 25, 32]"
      ]
     },
     "execution_count": 11,
     "metadata": {},
     "output_type": "execute_result"
    }
   ],
   "source": [
    "import math\n",
    "def formule():\n",
    "    C = 50\n",
    "    H = 30\n",
    "    D = input(\"Saisir les valeurs que va prendre D : \")\n",
    "    result = []\n",
    "    D = D.split(',')\n",
    "    print(D)\n",
    "    for i in D:\n",
    "        x = int(i)\n",
    "        Q = (2*C*x)/H    #Square root of [(2 * C * D)/H]\n",
    "        result.append(round(math.sqrt(Q)))     \n",
    "    return result \n",
    "formule()    "
   ]
  },
  {
   "cell_type": "code",
   "execution_count": null,
   "id": "8e0b8c5d",
   "metadata": {},
   "outputs": [],
   "source": []
  }
 ],
 "metadata": {
  "kernelspec": {
   "display_name": "Python 3",
   "language": "python",
   "name": "python3"
  },
  "language_info": {
   "codemirror_mode": {
    "name": "ipython",
    "version": 3
   },
   "file_extension": ".py",
   "mimetype": "text/x-python",
   "name": "python",
   "nbconvert_exporter": "python",
   "pygments_lexer": "ipython3",
   "version": "3.8.8"
  }
 },
 "nbformat": 4,
 "nbformat_minor": 5
}
